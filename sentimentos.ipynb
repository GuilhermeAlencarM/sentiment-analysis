{
  "cells": [
    {
      "cell_type": "code",
      "execution_count": 202,
      "metadata": {
        "id": "HKHggx-D4EkZ"
      },
      "outputs": [],
      "source": [
        "import pandas as pd\n",
        "from sklearn.model_selection import cross_val_score\n",
        "from sklearn.model_selection import train_test_split\n",
        "from sklearn.feature_extraction.text import TfidfVectorizer\n",
        "from sklearn.naive_bayes import MultinomialNB\n",
        "from sklearn.metrics import classification_report, accuracy_score\n",
        "from sklearn.pipeline import make_pipeline"
      ]
    },
    {
      "cell_type": "code",
      "execution_count": 203,
      "metadata": {
        "colab": {
          "base_uri": "https://localhost:8080/",
          "height": 423
        },
        "id": "Ce2MnYlh0N3w",
        "outputId": "b46c99d5-74d9-4f5b-b322-2486f08965ca"
      },
      "outputs": [
        {
          "data": {
            "text/html": [
              "<div>\n",
              "<style scoped>\n",
              "    .dataframe tbody tr th:only-of-type {\n",
              "        vertical-align: middle;\n",
              "    }\n",
              "\n",
              "    .dataframe tbody tr th {\n",
              "        vertical-align: top;\n",
              "    }\n",
              "\n",
              "    .dataframe thead th {\n",
              "        text-align: right;\n",
              "    }\n",
              "</style>\n",
              "<table border=\"1\" class=\"dataframe\">\n",
              "  <thead>\n",
              "    <tr style=\"text-align: right;\">\n",
              "      <th></th>\n",
              "      <th>frase</th>\n",
              "      <th>sentimento</th>\n",
              "    </tr>\n",
              "  </thead>\n",
              "  <tbody>\n",
              "    <tr>\n",
              "      <th>0</th>\n",
              "      <td>Estou furioso com essa falta de respeito</td>\n",
              "      <td>raiva</td>\n",
              "    </tr>\n",
              "    <tr>\n",
              "      <th>1</th>\n",
              "      <td>Estou cansado de lidar com tanta incompetência</td>\n",
              "      <td>raiva</td>\n",
              "    </tr>\n",
              "    <tr>\n",
              "      <th>2</th>\n",
              "      <td>Que coisa mais absurda!</td>\n",
              "      <td>raiva</td>\n",
              "    </tr>\n",
              "    <tr>\n",
              "      <th>3</th>\n",
              "      <td>Estou indignado com essa falta de consideração</td>\n",
              "      <td>raiva</td>\n",
              "    </tr>\n",
              "    <tr>\n",
              "      <th>4</th>\n",
              "      <td>nao quero saber de nada eu te odeio</td>\n",
              "      <td>raiva</td>\n",
              "    </tr>\n",
              "    <tr>\n",
              "      <th>...</th>\n",
              "      <td>...</td>\n",
              "      <td>...</td>\n",
              "    </tr>\n",
              "    <tr>\n",
              "      <th>3035</th>\n",
              "      <td>Estou radiante de tanto contentamento!</td>\n",
              "      <td>felicidade</td>\n",
              "    </tr>\n",
              "    <tr>\n",
              "      <th>3036</th>\n",
              "      <td>Este é o tipo de dia que me faz sentir grato p...</td>\n",
              "      <td>felicidade</td>\n",
              "    </tr>\n",
              "    <tr>\n",
              "      <th>3037</th>\n",
              "      <td>A vida me presenteou com motivos de sobra para...</td>\n",
              "      <td>felicidade</td>\n",
              "    </tr>\n",
              "    <tr>\n",
              "      <th>3038</th>\n",
              "      <td>Cada novo dia é uma nova oportunidade para ser...</td>\n",
              "      <td>felicidade</td>\n",
              "    </tr>\n",
              "    <tr>\n",
              "      <th>3039</th>\n",
              "      <td>Não há nada como o sentimento de pura alegria!</td>\n",
              "      <td>felicidade</td>\n",
              "    </tr>\n",
              "  </tbody>\n",
              "</table>\n",
              "<p>3040 rows × 2 columns</p>\n",
              "</div>"
            ],
            "text/plain": [
              "                                                  frase  sentimento\n",
              "0              Estou furioso com essa falta de respeito       raiva\n",
              "1        Estou cansado de lidar com tanta incompetência       raiva\n",
              "2                               Que coisa mais absurda!       raiva\n",
              "3        Estou indignado com essa falta de consideração       raiva\n",
              "4                   nao quero saber de nada eu te odeio       raiva\n",
              "...                                                 ...         ...\n",
              "3035             Estou radiante de tanto contentamento!  felicidade\n",
              "3036  Este é o tipo de dia que me faz sentir grato p...  felicidade\n",
              "3037  A vida me presenteou com motivos de sobra para...  felicidade\n",
              "3038  Cada novo dia é uma nova oportunidade para ser...  felicidade\n",
              "3039     Não há nada como o sentimento de pura alegria!  felicidade\n",
              "\n",
              "[3040 rows x 2 columns]"
            ]
          },
          "execution_count": 203,
          "metadata": {},
          "output_type": "execute_result"
        }
      ],
      "source": [
        "# Carregar o conjunto de dados\n",
        "data = pd.read_csv(\"./dataset/merged_dataset.csv\")\n",
        "data"
      ]
    },
    {
      "cell_type": "code",
      "execution_count": 204,
      "metadata": {},
      "outputs": [
        {
          "name": "stderr",
          "output_type": "stream",
          "text": [
            "[nltk_data] Downloading package stopwords to\n",
            "[nltk_data]     /home/guilherme/nltk_data...\n",
            "[nltk_data]   Package stopwords is already up-to-date!\n",
            "[nltk_data] Downloading package wordnet to\n",
            "[nltk_data]     /home/guilherme/nltk_data...\n",
            "[nltk_data]   Package wordnet is already up-to-date!\n",
            "[nltk_data] Downloading package omw-1.4 to\n",
            "[nltk_data]     /home/guilherme/nltk_data...\n",
            "[nltk_data]   Package omw-1.4 is already up-to-date!\n"
          ]
        },
        {
          "data": {
            "text/plain": [
              "True"
            ]
          },
          "execution_count": 204,
          "metadata": {},
          "output_type": "execute_result"
        }
      ],
      "source": [
        "import nltk\n",
        "nltk.download('stopwords')\n",
        "from nltk.corpus import stopwords\n",
        "stopword=set(stopwords.words('portuguese'))\n",
        "stemmer = nltk.SnowballStemmer(\"portuguese\")\n",
        "nltk.download('wordnet')\n",
        "nltk.download('omw-1.4')"
      ]
    },
    {
      "cell_type": "code",
      "execution_count": 205,
      "metadata": {},
      "outputs": [],
      "source": [
        "import re\n",
        "from nltk.stem import WordNetLemmatizer\n",
        "from nltk.corpus import stopwords\n",
        "\n",
        "# Instancie o lematizador\n",
        "lemmatizer = WordNetLemmatizer()"
      ]
    },
    {
      "cell_type": "code",
      "execution_count": 206,
      "metadata": {},
      "outputs": [],
      "source": [
        "# Função clean com lematização\n",
        "def clean(text):\n",
        "    text = str(text).lower()\n",
        "    text = re.sub('[.?]', '', text)\n",
        "    text = re.sub('https?://\\S+|www.\\S+', '', text)\n",
        "    text = re.sub('<.?>+', '', text)\n",
        "    text = re.sub(r'[^\\w\\s]', '', text)\n",
        "    text = re.sub('\\n', '', text)\n",
        "    text = re.sub(r'@\\w+\\s', '', text)\n",
        "    text = re.sub('\\w\\d\\w', '', text)\n",
        "    text = re.sub(r'[0-9]', '', text)\n",
        "    words = [word for word in text.split(' ') if word not in stopwords.words('portuguese')]\n",
        "    lemmatized_words = [lemmatizer.lemmatize(word) for word in words]\n",
        "    text = ' '.join(lemmatized_words)\n",
        "    return text\n",
        "\n",
        "# Aplica a função 'clean' à coluna 'frase' do DataFrame 'data'\n",
        "data['frase'] = data['frase'].apply(clean)\n"
      ]
    },
    {
      "cell_type": "code",
      "execution_count": 207,
      "metadata": {},
      "outputs": [
        {
          "data": {
            "text/html": [
              "<div>\n",
              "<style scoped>\n",
              "    .dataframe tbody tr th:only-of-type {\n",
              "        vertical-align: middle;\n",
              "    }\n",
              "\n",
              "    .dataframe tbody tr th {\n",
              "        vertical-align: top;\n",
              "    }\n",
              "\n",
              "    .dataframe thead th {\n",
              "        text-align: right;\n",
              "    }\n",
              "</style>\n",
              "<table border=\"1\" class=\"dataframe\">\n",
              "  <thead>\n",
              "    <tr style=\"text-align: right;\">\n",
              "      <th></th>\n",
              "      <th>frase</th>\n",
              "      <th>sentimento</th>\n",
              "    </tr>\n",
              "  </thead>\n",
              "  <tbody>\n",
              "    <tr>\n",
              "      <th>0</th>\n",
              "      <td>furioso falta respeito</td>\n",
              "      <td>raiva</td>\n",
              "    </tr>\n",
              "    <tr>\n",
              "      <th>1</th>\n",
              "      <td>cansado lidar tanta incompetência</td>\n",
              "      <td>raiva</td>\n",
              "    </tr>\n",
              "    <tr>\n",
              "      <th>2</th>\n",
              "      <td>coisa absurda</td>\n",
              "      <td>raiva</td>\n",
              "    </tr>\n",
              "    <tr>\n",
              "      <th>3</th>\n",
              "      <td>indignado falta consideração</td>\n",
              "      <td>raiva</td>\n",
              "    </tr>\n",
              "    <tr>\n",
              "      <th>4</th>\n",
              "      <td>nao quero saber nada odeio</td>\n",
              "      <td>raiva</td>\n",
              "    </tr>\n",
              "    <tr>\n",
              "      <th>...</th>\n",
              "      <td>...</td>\n",
              "      <td>...</td>\n",
              "    </tr>\n",
              "    <tr>\n",
              "      <th>3035</th>\n",
              "      <td>radiante tanto contentamento</td>\n",
              "      <td>felicidade</td>\n",
              "    </tr>\n",
              "    <tr>\n",
              "      <th>3036</th>\n",
              "      <td>tipo dia faz sentir grato vivo</td>\n",
              "      <td>felicidade</td>\n",
              "    </tr>\n",
              "    <tr>\n",
              "      <th>3037</th>\n",
              "      <td>vida presenteou motivos sobra celebrar felicid...</td>\n",
              "      <td>felicidade</td>\n",
              "    </tr>\n",
              "    <tr>\n",
              "      <th>3038</th>\n",
              "      <td>cada novo dia nova oportunidade feliz</td>\n",
              "      <td>felicidade</td>\n",
              "    </tr>\n",
              "    <tr>\n",
              "      <th>3039</th>\n",
              "      <td>nada sentimento pura alegria</td>\n",
              "      <td>felicidade</td>\n",
              "    </tr>\n",
              "  </tbody>\n",
              "</table>\n",
              "<p>3040 rows × 2 columns</p>\n",
              "</div>"
            ],
            "text/plain": [
              "                                                  frase  sentimento\n",
              "0                                furioso falta respeito       raiva\n",
              "1                     cansado lidar tanta incompetência       raiva\n",
              "2                                         coisa absurda       raiva\n",
              "3                          indignado falta consideração       raiva\n",
              "4                            nao quero saber nada odeio       raiva\n",
              "...                                                 ...         ...\n",
              "3035                       radiante tanto contentamento  felicidade\n",
              "3036                     tipo dia faz sentir grato vivo  felicidade\n",
              "3037  vida presenteou motivos sobra celebrar felicid...  felicidade\n",
              "3038              cada novo dia nova oportunidade feliz  felicidade\n",
              "3039                       nada sentimento pura alegria  felicidade\n",
              "\n",
              "[3040 rows x 2 columns]"
            ]
          },
          "execution_count": 207,
          "metadata": {},
          "output_type": "execute_result"
        }
      ],
      "source": [
        "data"
      ]
    },
    {
      "cell_type": "code",
      "execution_count": 208,
      "metadata": {
        "colab": {
          "base_uri": "https://localhost:8080/",
          "height": 467
        },
        "id": "IEOKMwRU1pQT",
        "outputId": "e0402949-49fe-4f9b-857c-314ecd44893f"
      },
      "outputs": [
        {
          "data": {
            "text/plain": [
              "<AxesSubplot:xlabel='sentimento', ylabel='count'>"
            ]
          },
          "execution_count": 208,
          "metadata": {},
          "output_type": "execute_result"
        },
        {
          "data": {
            "image/png": "[encoded data removed]",
            "text/plain": [
              "<Figure size 432x288 with 1 Axes>"
            ]
          },
          "metadata": {
            "needs_background": "light"
          },
          "output_type": "display_data"
        }
      ],
      "source": [
        "import seaborn as sns\n",
        "sns.countplot(data=data, x=\"sentimento\")"
      ]
    },
    {
      "cell_type": "code",
      "execution_count": 209,
      "metadata": {
        "id": "bW1dlDAf3zZh"
      },
      "outputs": [],
      "source": [
        "# Divisão dos dados em conjuntos de treinamento e teste\n",
        "X_train, X_test, y_train, y_test = train_test_split(data['frase'], data['sentimento'], test_size=0.2, random_state=42)"
      ]
    },
    {
      "cell_type": "code",
      "execution_count": 210,
      "metadata": {
        "id": "jmF0pJ2P4qne"
      },
      "outputs": [],
      "source": [
        "#Criar um pipeline que primeiro vetoriza o texto e depois aplica Naive Bayes\n",
        "model = make_pipeline(TfidfVectorizer(), MultinomialNB())"
      ]
    },
    {
      "cell_type": "code",
      "execution_count": 211,
      "metadata": {
        "colab": {
          "base_uri": "https://localhost:8080/",
          "height": 126
        },
        "id": "3wyYif9S4r1I",
        "outputId": "065c875e-fc17-460a-b6eb-07311c7aec15"
      },
      "outputs": [
        {
          "data": {
            "text/html": [
              "<style>#sk-container-id-13 {color: black;background-color: white;}#sk-container-id-13 pre{padding: 0;}#sk-container-id-13 div.sk-toggleable {background-color: white;}#sk-container-id-13 label.sk-toggleable__label {cursor: pointer;display: block;width: 100%;margin-bottom: 0;padding: 0.3em;box-sizing: border-box;text-align: center;}#sk-container-id-13 label.sk-toggleable__label-arrow:before {content: \"▸\";float: left;margin-right: 0.25em;color: #696969;}#sk-container-id-13 label.sk-toggleable__label-arrow:hover:before {color: black;}#sk-container-id-13 div.sk-estimator:hover label.sk-toggleable__label-arrow:before {color: black;}#sk-container-id-13 div.sk-toggleable__content {max-height: 0;max-width: 0;overflow: hidden;text-align: left;background-color: #f0f8ff;}#sk-container-id-13 div.sk-toggleable__content pre {margin: 0.2em;color: black;border-radius: 0.25em;background-color: #f0f8ff;}#sk-container-id-13 input.sk-toggleable__control:checked~div.sk-toggleable__content {max-height: 200px;max-width: 100%;overflow: auto;}#sk-container-id-13 input.sk-toggleable__control:checked~label.sk-toggleable__label-arrow:before {content: \"▾\";}#sk-container-id-13 div.sk-estimator input.sk-toggleable__control:checked~label.sk-toggleable__label {background-color: #d4ebff;}#sk-container-id-13 div.sk-label input.sk-toggleable__control:checked~label.sk-toggleable__label {background-color: #d4ebff;}#sk-container-id-13 input.sk-hidden--visually {border: 0;clip: rect(1px 1px 1px 1px);clip: rect(1px, 1px, 1px, 1px);height: 1px;margin: -1px;overflow: hidden;padding: 0;position: absolute;width: 1px;}#sk-container-id-13 div.sk-estimator {font-family: monospace;background-color: #f0f8ff;border: 1px dotted black;border-radius: 0.25em;box-sizing: border-box;margin-bottom: 0.5em;}#sk-container-id-13 div.sk-estimator:hover {background-color: #d4ebff;}#sk-container-id-13 div.sk-parallel-item::after {content: \"\";width: 100%;border-bottom: 1px solid gray;flex-grow: 1;}#sk-container-id-13 div.sk-label:hover label.sk-toggleable__label {background-color: #d4ebff;}#sk-container-id-13 div.sk-serial::before {content: \"\";position: absolute;border-left: 1px solid gray;box-sizing: border-box;top: 0;bottom: 0;left: 50%;z-index: 0;}#sk-container-id-13 div.sk-serial {display: flex;flex-direction: column;align-items: center;background-color: white;padding-right: 0.2em;padding-left: 0.2em;position: relative;}#sk-container-id-13 div.sk-item {position: relative;z-index: 1;}#sk-container-id-13 div.sk-parallel {display: flex;align-items: stretch;justify-content: center;background-color: white;position: relative;}#sk-container-id-13 div.sk-item::before, #sk-container-id-13 div.sk-parallel-item::before {content: \"\";position: absolute;border-left: 1px solid gray;box-sizing: border-box;top: 0;bottom: 0;left: 50%;z-index: -1;}#sk-container-id-13 div.sk-parallel-item {display: flex;flex-direction: column;z-index: 1;position: relative;background-color: white;}#sk-container-id-13 div.sk-parallel-item:first-child::after {align-self: flex-end;width: 50%;}#sk-container-id-13 div.sk-parallel-item:last-child::after {align-self: flex-start;width: 50%;}#sk-container-id-13 div.sk-parallel-item:only-child::after {width: 0;}#sk-container-id-13 div.sk-dashed-wrapped {border: 1px dashed gray;margin: 0 0.4em 0.5em 0.4em;box-sizing: border-box;padding-bottom: 0.4em;background-color: white;}#sk-container-id-13 div.sk-label label {font-family: monospace;font-weight: bold;display: inline-block;line-height: 1.2em;}#sk-container-id-13 div.sk-label-container {text-align: center;}#sk-container-id-13 div.sk-container {/* jupyter's `normalize.less` sets `[hidden] { display: none; }` but bootstrap.min.css set `[hidden] { display: none !important; }` so we also need the `!important` here to be able to override the default hidden behavior on the sphinx rendered scikit-learn.org. See: https://github.com/scikit-learn/scikit-learn/issues/21755 */display: inline-block !important;position: relative;}#sk-container-id-13 div.sk-text-repr-fallback {display: none;}</style><div id=\"sk-container-id-13\" class=\"sk-top-container\"><div class=\"sk-text-repr-fallback\"><pre>Pipeline(steps=[(&#x27;tfidfvectorizer&#x27;, TfidfVectorizer()),\n",
              "                (&#x27;multinomialnb&#x27;, MultinomialNB())])</pre><b>In a Jupyter environment, please rerun this cell to show the HTML representation or trust the notebook. <br />On GitHub, the HTML representation is unable to render, please try loading this page with nbviewer.org.</b></div><div class=\"sk-container\" hidden><div class=\"sk-item sk-dashed-wrapped\"><div class=\"sk-label-container\"><div class=\"sk-label sk-toggleable\"><input class=\"sk-toggleable__control sk-hidden--visually\" id=\"sk-estimator-id-37\" type=\"checkbox\" ><label for=\"sk-estimator-id-37\" class=\"sk-toggleable__label sk-toggleable__label-arrow\">Pipeline</label><div class=\"sk-toggleable__content\"><pre>Pipeline(steps=[(&#x27;tfidfvectorizer&#x27;, TfidfVectorizer()),\n",
              "                (&#x27;multinomialnb&#x27;, MultinomialNB())])</pre></div></div></div><div class=\"sk-serial\"><div class=\"sk-item\"><div class=\"sk-estimator sk-toggleable\"><input class=\"sk-toggleable__control sk-hidden--visually\" id=\"sk-estimator-id-38\" type=\"checkbox\" ><label for=\"sk-estimator-id-38\" class=\"sk-toggleable__label sk-toggleable__label-arrow\">TfidfVectorizer</label><div class=\"sk-toggleable__content\"><pre>TfidfVectorizer()</pre></div></div></div><div class=\"sk-item\"><div class=\"sk-estimator sk-toggleable\"><input class=\"sk-toggleable__control sk-hidden--visually\" id=\"sk-estimator-id-39\" type=\"checkbox\" ><label for=\"sk-estimator-id-39\" class=\"sk-toggleable__label sk-toggleable__label-arrow\">MultinomialNB</label><div class=\"sk-toggleable__content\"><pre>MultinomialNB()</pre></div></div></div></div></div></div></div>"
            ],
            "text/plain": [
              "Pipeline(steps=[('tfidfvectorizer', TfidfVectorizer()),\n",
              "                ('multinomialnb', MultinomialNB())])"
            ]
          },
          "execution_count": 211,
          "metadata": {},
          "output_type": "execute_result"
        }
      ],
      "source": [
        "# Treinar o modelo\n",
        "model.fit(X_train, y_train)"
      ]
    },
    {
      "cell_type": "code",
      "execution_count": 212,
      "metadata": {
        "id": "VSZhlA-N4y9_"
      },
      "outputs": [],
      "source": [
        "# Fazer previsões no conjunto de teste\n",
        "y_pred = model.predict(X_test)"
      ]
    },
    {
      "cell_type": "code",
      "execution_count": 213,
      "metadata": {
        "colab": {
          "base_uri": "https://localhost:8080/"
        },
        "id": "QJREwPTi49Dn",
        "outputId": "55404ef0-05c9-482b-eb79-b90dcff518ff"
      },
      "outputs": [
        {
          "data": {
            "text/plain": [
              "('/content/dataset_sentimentos.csv',\n",
              " 0.9901315789473685,\n",
              " '              precision    recall  f1-score   support\\n\\n  felicidade       0.98      1.00      0.99       199\\n       raiva       1.00      0.99      0.99       211\\n    tristeza       1.00      0.98      0.99       198\\n\\n    accuracy                           0.99       608\\n   macro avg       0.99      0.99      0.99       608\\nweighted avg       0.99      0.99      0.99       608\\n')"
            ]
          },
          "execution_count": 213,
          "metadata": {},
          "output_type": "execute_result"
        }
      ],
      "source": [
        "# Avaliar o modelo\n",
        "accuracy = accuracy_score(y_test, y_pred)\n",
        "report = classification_report(y_test, y_pred)\n",
        "\n",
        "\"/content/dataset_sentimentos.csv\", accuracy, report"
      ]
    },
    {
      "cell_type": "code",
      "execution_count": 214,
      "metadata": {
        "colab": {
          "base_uri": "https://localhost:8080/"
        },
        "id": "UmxG6OWU-sti",
        "outputId": "9a14e644-12e1-4b7f-e46d-f6d93b5ae73b"
      },
      "outputs": [
        {
          "name": "stdout",
          "output_type": "stream",
          "text": [
            "0.9901315789473685\n"
          ]
        }
      ],
      "source": [
        "print(accuracy_score(y_test,y_pred))"
      ]
    },
    {
      "cell_type": "code",
      "execution_count": 215,
      "metadata": {
        "colab": {
          "base_uri": "https://localhost:8080/"
        },
        "id": "SvEumrGZ5JTo",
        "outputId": "27d74651-c683-4ffd-9468-1ed0b55c5fcb"
      },
      "outputs": [
        {
          "name": "stdout",
          "output_type": "stream",
          "text": [
            "A frase 'Hoje é um ótimo dia!' expressa um sentimento de felicidade.\n",
            "A frase 'Estou muito triste com essa notícia.' expressa um sentimento de tristeza.\n",
            "A frase 'Não acredito que isso aconteceu. Estou irritado!' expressa um sentimento de raiva.\n"
          ]
        }
      ],
      "source": [
        "def prever_sentimento(frase):\n",
        "    sentimento_predito = model.predict([frase])[0]\n",
        "    print(f\"A frase '{frase}' expressa um sentimento de {sentimento_predito}.\")\n",
        "\n",
        "# Exemplos de teste\n",
        "prever_sentimento(\"Hoje é um ótimo dia!\")\n",
        "prever_sentimento(\"Estou muito triste com essa notícia.\")\n",
        "prever_sentimento(\"Não acredito que isso aconteceu. Estou irritado!\")\n"
      ]
    },
    {
      "cell_type": "code",
      "execution_count": 216,
      "metadata": {
        "colab": {
          "base_uri": "https://localhost:8080/"
        },
        "id": "gUD2zsnlDE0_",
        "outputId": "d3618380-c88f-42b5-fa82-0dc7ecf49f1a"
      },
      "outputs": [
        {
          "name": "stdout",
          "output_type": "stream",
          "text": [
            "Accuracy scores for each fold: [0.99180328 0.99180328 0.98353909 0.99588477 0.98765432 0.97119342\n",
            " 0.99588477 0.99176955 0.97942387 0.98353909]\n",
            "Mean accuracy: 0.9872495446265939\n"
          ]
        }
      ],
      "source": [
        "cv_scores = cross_val_score(model, X_train, y_train, cv=10)  # 10-fold cross-validation\n",
        "\n",
        "print(\"Accuracy scores for each fold:\", cv_scores)\n",
        "print(\"Mean accuracy:\", cv_scores.mean())"
      ]
    },
    {
      "cell_type": "code",
      "execution_count": 217,
      "metadata": {
        "colab": {
          "base_uri": "https://localhost:8080/",
          "height": 481
        },
        "id": "DPGFvsV0EAbJ",
        "outputId": "bfa9e5dd-ea32-469f-b5eb-67ff7694a9a0"
      },
      "outputs": [
        {
          "data": {
            "image/png": "[encoded data removed]",
            "text/plain": [
              "<Figure size 432x288 with 2 Axes>"
            ]
          },
          "metadata": {
            "needs_background": "light"
          },
          "output_type": "display_data"
        }
      ],
      "source": [
        "from sklearn.metrics import confusion_matrix\n",
        "\n",
        "import seaborn as sns\n",
        "import matplotlib.pyplot as plt\n",
        "\n",
        "\n",
        "def plot_confusion_matrix(y_test, y_pred):\n",
        "    cm = confusion_matrix(y_test, y_pred)\n",
        "    # Plot the confusion matrix.\n",
        "    sns.heatmap(cm,\n",
        "                annot=True,\n",
        "                fmt='g',\n",
        "                xticklabels=model.classes_,\n",
        "                yticklabels=model.classes_)\n",
        "    plt.ylabel('Prediction', fontsize=13)\n",
        "    plt.xlabel('Actual', fontsize=13)\n",
        "    plt.title('Confusion Matrix', fontsize=17)\n",
        "    plt.show()\n",
        "plot_confusion_matrix(y_test, y_pred)\n"
      ]
    },
    {
      "cell_type": "code",
      "execution_count": 218,
      "metadata": {
        "colab": {
          "base_uri": "https://localhost:8080/"
        },
        "id": "YM2cf6P58IFr",
        "outputId": "3ca96a34-1f25-4338-a359-2100c0b01fd0"
      },
      "outputs": [
        {
          "name": "stdout",
          "output_type": "stream",
          "text": [
            "Modelo salvo como modelo_sentimentos.joblib\n"
          ]
        }
      ],
      "source": [
        "import joblib\n",
        "\n",
        "# Nome do arquivo para salvar o modelo\n",
        "filename = 'modelo_sentimentos.joblib'\n",
        "\n",
        "# Salvar o modelo utilizando joblib\n",
        "joblib.dump(model, filename)\n",
        "\n",
        "print(f\"Modelo salvo como {filename}\")\n"
      ]
    }
  ],
  "metadata": {
    "colab": {
      "provenance": []
    },
    "kernelspec": {
      "display_name": "Python 3",
      "name": "python3"
    },
    "language_info": {
      "codemirror_mode": {
        "name": "ipython",
        "version": 3
      },
      "file_extension": ".py",
      "mimetype": "text/x-python",
      "name": "python",
      "nbconvert_exporter": "python",
      "pygments_lexer": "ipython3",
      "version": "3.9.12"
    }
  },
  "nbformat": 4,
  "nbformat_minor": 0
}
